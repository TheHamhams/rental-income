{
 "cells": [
  {
   "cell_type": "code",
   "execution_count": 9,
   "metadata": {},
   "outputs": [],
   "source": [
    "def rental(monthly_incomes, monthly_expenses, investments, goal_roi):\n",
    "    total_monthly_income = sum(monthly_incomes)\n",
    "    print(f\"\\nYou expected total monthly income is ${total_monthly_income}\")\n",
    "    \n",
    "    total_monthly_expenses = sum(monthly_expenses)\n",
    "    print(f\"\\nYour expected total monthly expenses are ${total_monthly_expenses}\")\n",
    "    \n",
    "    cash_flow = total_monthly_income - total_monthly_expenses\n",
    "    print(f\"\\nYour expected monthly cash flow is ${cash_flow}\")\n",
    "    \n",
    "    total_investment = sum(investments)\n",
    "    print(f\"\\nYour total investment is {total_investment}\")\n",
    "    \n",
    "    annual_cash_flow = cash_flow * 12\n",
    "    roi = annual_cash_flow / total_investment\n",
    "    \n",
    "    print(f'\\nYour exstimated ROI is {roi * 100}%')\n",
    "    \n",
    "    if roi >= goal_roi:\n",
    "        print(\"\\nThis property is prjected to meet or exceed your ROI expectations! \\nGo for it!\")\n",
    "        return True\n",
    "    print('\\nThis property is projected to give you too small of an ROI. \\nYou had better pass on this one.')\n",
    "    return False"
   ]
  },
  {
   "cell_type": "code",
   "execution_count": 10,
   "metadata": {},
   "outputs": [
    {
     "name": "stdout",
     "output_type": "stream",
     "text": [
      "\n",
      "You expected total monthly income is $2000\n",
      "\n",
      "Your expected total monthly expenses are $1510\n",
      "\n",
      "Your expected monthly cash flow is $490\n",
      "\n",
      "Your total investment is 50000\n",
      "\n",
      "Your exstimated ROI is 11.76%\n",
      "\n",
      "This property is prjected to meet or exceed your ROI expectations! \n",
      "Go for it!\n"
     ]
    },
    {
     "data": {
      "text/plain": [
       "True"
      ]
     },
     "execution_count": 10,
     "metadata": {},
     "output_type": "execute_result"
    }
   ],
   "source": [
    "# Property 1\n",
    "incomes1 = [1700, 300]\n",
    "expenses1 = [150, 100, 100, 100, 200, 860]\n",
    "investments1 = [40000, 3000, 7000]\n",
    "goal1 = 0.05\n",
    "\n",
    "rental(incomes1, expenses1, investments1, goal1)"
   ]
  },
  {
   "cell_type": "code",
   "execution_count": 11,
   "metadata": {},
   "outputs": [
    {
     "name": "stdout",
     "output_type": "stream",
     "text": [
      "\n",
      "You expected total monthly income is $1500\n",
      "\n",
      "Your expected total monthly expenses are $1400\n",
      "\n",
      "Your expected monthly cash flow is $100\n",
      "\n",
      "Your total investment is 75000\n",
      "\n",
      "Your exstimated ROI is 1.6%\n",
      "\n",
      "This property is projected to give you too small of an ROI. \n",
      "You had better pass on this one.\n"
     ]
    },
    {
     "data": {
      "text/plain": [
       "False"
      ]
     },
     "execution_count": 11,
     "metadata": {},
     "output_type": "execute_result"
    }
   ],
   "source": [
    "# Property 2\n",
    "incomes2 = [1500]\n",
    "expenses2 = [200, 300, 900]\n",
    "investments2 = [70000, 5000]\n",
    "goal2 = 0.5\n",
    "\n",
    "rental(incomes2, expenses2, investments2, goal2)"
   ]
  }
 ],
 "metadata": {
  "kernelspec": {
   "display_name": "Python 3.9.5 64-bit",
   "language": "python",
   "name": "python3"
  },
  "language_info": {
   "codemirror_mode": {
    "name": "ipython",
    "version": 3
   },
   "file_extension": ".py",
   "mimetype": "text/x-python",
   "name": "python",
   "nbconvert_exporter": "python",
   "pygments_lexer": "ipython3",
   "version": "3.9.5"
  },
  "orig_nbformat": 4,
  "vscode": {
   "interpreter": {
    "hash": "916dbcbb3f70747c44a77c7bcd40155683ae19c65e1c03b4aa3499c5328201f1"
   }
  }
 },
 "nbformat": 4,
 "nbformat_minor": 2
}
